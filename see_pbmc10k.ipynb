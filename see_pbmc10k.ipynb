{
 "cells": [
  {
   "cell_type": "code",
   "execution_count": 13,
   "metadata": {},
   "outputs": [],
   "source": [
    "import scanpy as sc\n",
    "import pandas as pd\n",
    "import torch\n",
    "from torch.utils.data import TensorDataset, DataLoader\n",
    "import numpy as np\n",
    "\n",
    "\n",
    "data_dir = \"/Users/hyunjaecho/Downloads/raw_feature_bc_matrix/\"\n",
    "\n",
    "adata = sc.read_10x_mtx(data_dir, var_names='gene_symbols', cache=False)\n"
   ]
  },
  {
   "cell_type": "code",
   "execution_count": 18,
   "metadata": {},
   "outputs": [
    {
     "data": {
      "text/html": [
       "<div>\n",
       "<style scoped>\n",
       "    .dataframe tbody tr th:only-of-type {\n",
       "        vertical-align: middle;\n",
       "    }\n",
       "\n",
       "    .dataframe tbody tr th {\n",
       "        vertical-align: top;\n",
       "    }\n",
       "\n",
       "    .dataframe thead th {\n",
       "        text-align: right;\n",
       "    }\n",
       "</style>\n",
       "<table border=\"1\" class=\"dataframe\">\n",
       "  <thead>\n",
       "    <tr style=\"text-align: right;\">\n",
       "      <th></th>\n",
       "      <th>barcode</th>\n",
       "      <th>celltype</th>\n",
       "    </tr>\n",
       "  </thead>\n",
       "  <tbody>\n",
       "    <tr>\n",
       "      <th>1</th>\n",
       "      <td>AAACAGCCAAAGCCTC-1</td>\n",
       "      <td>Naive CD8+ T cells</td>\n",
       "    </tr>\n",
       "    <tr>\n",
       "      <th>2</th>\n",
       "      <td>AAACAGCCAGAATGAC-1</td>\n",
       "      <td>Classical Monocytes</td>\n",
       "    </tr>\n",
       "    <tr>\n",
       "      <th>3</th>\n",
       "      <td>AAACAGCCAGCTACGT-1</td>\n",
       "      <td>Classical Monocytes</td>\n",
       "    </tr>\n",
       "    <tr>\n",
       "      <th>4</th>\n",
       "      <td>AAACAGCCAGGCCTTG-1</td>\n",
       "      <td>Myeloid Dendritic cells</td>\n",
       "    </tr>\n",
       "    <tr>\n",
       "      <th>5</th>\n",
       "      <td>AAACAGCCATAATGTC-1</td>\n",
       "      <td>Naive CD4+ T cells</td>\n",
       "    </tr>\n",
       "  </tbody>\n",
       "</table>\n",
       "</div>"
      ],
      "text/plain": [
       "              barcode                 celltype\n",
       "1  AAACAGCCAAAGCCTC-1       Naive CD8+ T cells\n",
       "2  AAACAGCCAGAATGAC-1      Classical Monocytes\n",
       "3  AAACAGCCAGCTACGT-1      Classical Monocytes\n",
       "4  AAACAGCCAGGCCTTG-1  Myeloid Dendritic cells\n",
       "5  AAACAGCCATAATGTC-1       Naive CD4+ T cells"
      ]
     },
     "execution_count": 18,
     "metadata": {},
     "output_type": "execute_result"
    }
   ],
   "source": [
    "b2type = pd.read_csv(\"/Users/hyunjaecho/Downloads/raw_feature_bc_matrix/barcode_to_celltype.tsv\", sep=\"\\t\", header=None).iloc[1:]\n",
    "b2type.columns = [\"barcode\", \"celltype\"]\n",
    "b2type.head()"
   ]
  },
  {
   "cell_type": "code",
   "execution_count": 20,
   "metadata": {},
   "outputs": [
    {
     "data": {
      "text/plain": [
       "array(['Naive CD8+ T cells', 'Classical Monocytes',\n",
       "       'Myeloid Dendritic cells', 'Naive CD4+ T cells',\n",
       "       'CD8+ NKT-like cells', 'Effector CD4+ T cells', 'Pre-B cells',\n",
       "       'Non-classical monocytes', 'Naive B cells', 'Plasma B cells',\n",
       "       'Macrophages', 'Natural killer  cells',\n",
       "       'Plasmacytoid Dendritic cells'], dtype=object)"
      ]
     },
     "execution_count": 20,
     "metadata": {},
     "output_type": "execute_result"
    }
   ],
   "source": [
    "b2type.celltype.unique()"
   ]
  },
  {
   "cell_type": "code",
   "execution_count": 22,
   "metadata": {},
   "outputs": [
    {
     "data": {
      "text/plain": [
       "12313"
      ]
     },
     "execution_count": 22,
     "metadata": {},
     "output_type": "execute_result"
    }
   ],
   "source": [
    "# Find out overlapping barcodes from adata and b2type.\n",
    "adata_barcodes = adata.obs.index\n",
    "b2type_barcodes = b2type.barcode\n",
    "overlapping_barcodes = np.intersect1d(adata_barcodes, b2type_barcodes)\n",
    "len(overlapping_barcodes)"
   ]
  },
  {
   "cell_type": "code",
   "execution_count": 27,
   "metadata": {},
   "outputs": [
    {
     "name": "stderr",
     "output_type": "stream",
     "text": [
      "/Users/hyunjaecho/opt/anaconda3/envs/single_cell/lib/python3.8/site-packages/anndata/_core/anndata.py:1222: ImplicitModificationWarning: Trying to modify attribute `.var` of view, initializing view as actual.\n",
      "  df[key] = c\n"
     ]
    }
   ],
   "source": [
    "adata[overlapping_barcodes,:].write_h5ad(\"/Users/hyunjaecho/Downloads/raw_feature_bc_matrix/pbmc10k.h5ad\")"
   ]
  },
  {
   "cell_type": "code",
   "execution_count": 28,
   "metadata": {},
   "outputs": [],
   "source": [
    "# Read the h5ad file.\n",
    "adata2 = sc.read_h5ad(\"/Users/hyunjaecho/Downloads/raw_feature_bc_matrix/pbmc10k.h5ad\")"
   ]
  },
  {
   "cell_type": "code",
   "execution_count": 29,
   "metadata": {},
   "outputs": [
    {
     "data": {
      "text/plain": [
       "AnnData object with n_obs × n_vars = 12313 × 36601\n",
       "    var: 'gene_ids', 'feature_types'"
      ]
     },
     "execution_count": 29,
     "metadata": {},
     "output_type": "execute_result"
    }
   ],
   "source": [
    "adata2"
   ]
  },
  {
   "cell_type": "code",
   "execution_count": 31,
   "metadata": {},
   "outputs": [],
   "source": [
    "labels = b2type[b2type.barcode.isin(overlapping_barcodes)].celltype"
   ]
  },
  {
   "cell_type": "code",
   "execution_count": 37,
   "metadata": {},
   "outputs": [
    {
     "data": {
      "text/plain": [
       "array(['CD8+ NKT-like cells', 'Classical Monocytes',\n",
       "       'Effector CD4+ T cells', 'Macrophages', 'Myeloid Dendritic cells',\n",
       "       'Naive B cells', 'Naive CD4+ T cells', 'Naive CD8+ T cells',\n",
       "       'Natural killer  cells', 'Non-classical monocytes',\n",
       "       'Plasma B cells', 'Plasmacytoid Dendritic cells', 'Pre-B cells'],\n",
       "      dtype=object)"
      ]
     },
     "execution_count": 37,
     "metadata": {},
     "output_type": "execute_result"
    }
   ],
   "source": [
    "np.unique(labels.values)"
   ]
  },
  {
   "cell_type": "code",
   "execution_count": 34,
   "metadata": {},
   "outputs": [],
   "source": [
    "# If you want, you can also store the labels in the adata object:\n",
    "adata2.obs['labels'] = labels"
   ]
  },
  {
   "cell_type": "code",
   "execution_count": 35,
   "metadata": {},
   "outputs": [
    {
     "data": {
      "text/plain": [
       "Index(['AAACAGCCAAAGCCTC-1', 'AAACAGCCAGAATGAC-1', 'AAACAGCCAGCTACGT-1',\n",
       "       'AAACAGCCAGGCCTTG-1', 'AAACAGCCATAATGTC-1', 'AAACATGCAGCAATAA-1',\n",
       "       'AAACATGCAGCCAGAA-1', 'AAACATGCAGGCGATA-1', 'AAACATGCAGTTTCTC-1',\n",
       "       'AAACCAACAACTAGGG-1',\n",
       "       ...\n",
       "       'TTTGTGGCATGAATCT-1', 'TTTGTGTTCAGTTCCC-1', 'TTTGTGTTCCCTCATA-1',\n",
       "       'TTTGTGTTCCTTGAGG-1', 'TTTGTGTTCTAGCTAA-1', 'TTTGTTGGTACGCGCA-1',\n",
       "       'TTTGTTGGTATTTGCC-1', 'TTTGTTGGTGATTACG-1', 'TTTGTTGGTTTCAGGA-1',\n",
       "       'TTTGTTGGTTTCCACG-1'],\n",
       "      dtype='object', length=12313)"
      ]
     },
     "execution_count": 35,
     "metadata": {},
     "output_type": "execute_result"
    }
   ],
   "source": [
    "adata2.obs.index"
   ]
  },
  {
   "cell_type": "code",
   "execution_count": 36,
   "metadata": {},
   "outputs": [
    {
     "data": {
      "text/html": [
       "<div>\n",
       "<style scoped>\n",
       "    .dataframe tbody tr th:only-of-type {\n",
       "        vertical-align: middle;\n",
       "    }\n",
       "\n",
       "    .dataframe tbody tr th {\n",
       "        vertical-align: top;\n",
       "    }\n",
       "\n",
       "    .dataframe thead th {\n",
       "        text-align: right;\n",
       "    }\n",
       "</style>\n",
       "<table border=\"1\" class=\"dataframe\">\n",
       "  <thead>\n",
       "    <tr style=\"text-align: right;\">\n",
       "      <th></th>\n",
       "    </tr>\n",
       "  </thead>\n",
       "  <tbody>\n",
       "    <tr>\n",
       "      <th>0</th>\n",
       "    </tr>\n",
       "    <tr>\n",
       "      <th>1</th>\n",
       "    </tr>\n",
       "    <tr>\n",
       "      <th>2</th>\n",
       "    </tr>\n",
       "    <tr>\n",
       "      <th>3</th>\n",
       "    </tr>\n",
       "    <tr>\n",
       "      <th>4</th>\n",
       "    </tr>\n",
       "    <tr>\n",
       "      <th>...</th>\n",
       "    </tr>\n",
       "    <tr>\n",
       "      <th>731127</th>\n",
       "    </tr>\n",
       "    <tr>\n",
       "      <th>731128</th>\n",
       "    </tr>\n",
       "    <tr>\n",
       "      <th>731129</th>\n",
       "    </tr>\n",
       "    <tr>\n",
       "      <th>731130</th>\n",
       "    </tr>\n",
       "    <tr>\n",
       "      <th>731131</th>\n",
       "    </tr>\n",
       "  </tbody>\n",
       "</table>\n",
       "<p>731132 rows × 0 columns</p>\n",
       "</div>"
      ],
      "text/plain": [
       "Empty DataFrame\n",
       "Columns: []\n",
       "Index: [0, 1, 2, 3, 4, 5, 6, 7, 8, 9, 10, 11, 12, 13, 14, 15, 16, 17, 18, 19, 20, 21, 22, 23, 24, 25, 26, 27, 28, 29, 30, 31, 32, 33, 34, 35, 36, 37, 38, 39, 40, 41, 42, 43, 44, 45, 46, 47, 48, 49, 50, 51, 52, 53, 54, 55, 56, 57, 58, 59, 60, 61, 62, 63, 64, 65, 66, 67, 68, 69, 70, 71, 72, 73, 74, 75, 76, 77, 78, 79, 80, 81, 82, 83, 84, 85, 86, 87, 88, 89, 90, 91, 92, 93, 94, 95, 96, 97, 98, 99, ...]\n",
       "\n",
       "[731132 rows x 0 columns]"
      ]
     },
     "execution_count": 36,
     "metadata": {},
     "output_type": "execute_result"
    }
   ],
   "source": [
    "adata.obs.reset_index(drop=True)"
   ]
  },
  {
   "cell_type": "code",
   "execution_count": 38,
   "metadata": {},
   "outputs": [
    {
     "name": "stdout",
     "output_type": "stream",
     "text": [
      "{'CD8+ NKT-like cells': 0, 'Classical Monocytes': 1, 'Effector CD4+ T cells': 2, 'Macrophages': 3, 'Myeloid Dendritic cells': 4, 'Naive B cells': 5, 'Naive CD4+ T cells': 6, 'Naive CD8+ T cells': 7, 'Natural killer  cells': 8, 'Non-classical monocytes': 9, 'Plasma B cells': 10, 'Plasmacytoid Dendritic cells': 11, 'Pre-B cells': 12}\n"
     ]
    }
   ],
   "source": [
    "keys = [\n",
    "    'CD8+ NKT-like cells', 'Classical Monocytes',\n",
    "    'Effector CD4+ T cells', 'Macrophages', 'Myeloid Dendritic cells',\n",
    "    'Naive B cells', 'Naive CD4+ T cells', 'Naive CD8+ T cells',\n",
    "    'Natural killer  cells', 'Non-classical monocytes',\n",
    "    'Plasma B cells', 'Plasmacytoid Dendritic cells', 'Pre-B cells'\n",
    "]\n",
    "\n",
    "# Create a dictionary using dictionary comprehension\n",
    "key_value_dict = {key: value for value, key in enumerate(keys)}\n",
    "\n",
    "# Now key_value_dict contains your keys with values from 0 to 12\n",
    "print(key_value_dict)"
   ]
  },
  {
   "cell_type": "code",
   "execution_count": null,
   "metadata": {},
   "outputs": [],
   "source": []
  }
 ],
 "metadata": {
  "kernelspec": {
   "display_name": "single_cell",
   "language": "python",
   "name": "python3"
  },
  "language_info": {
   "codemirror_mode": {
    "name": "ipython",
    "version": 3
   },
   "file_extension": ".py",
   "mimetype": "text/x-python",
   "name": "python",
   "nbconvert_exporter": "python",
   "pygments_lexer": "ipython3",
   "version": "3.8.16"
  },
  "orig_nbformat": 4
 },
 "nbformat": 4,
 "nbformat_minor": 2
}
