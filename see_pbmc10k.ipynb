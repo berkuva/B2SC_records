{
 "cells": [
  {
   "cell_type": "code",
   "execution_count": 13,
   "metadata": {},
   "outputs": [],
   "source": [
    "import scanpy as sc\n",
    "import pandas as pd\n",
    "import torch\n",
    "from torch.utils.data import TensorDataset, DataLoader\n",
    "import numpy as np\n",
    "\n",
    "\n",
    "data_dir = \"/Users/hyunjaecho/Downloads/raw_feature_bc_matrix/\"\n",
    "\n",
    "adata = sc.read_10x_mtx(data_dir, var_names='gene_symbols', cache=False)\n"
   ]
  },
  {
   "cell_type": "code",
   "execution_count": 18,
   "metadata": {},
   "outputs": [
    {
     "data": {
      "text/html": [
       "<div>\n",
       "<style scoped>\n",
       "    .dataframe tbody tr th:only-of-type {\n",
       "        vertical-align: middle;\n",
       "    }\n",
       "\n",
       "    .dataframe tbody tr th {\n",
       "        vertical-align: top;\n",
       "    }\n",
       "\n",
       "    .dataframe thead th {\n",
       "        text-align: right;\n",
       "    }\n",
       "</style>\n",
       "<table border=\"1\" class=\"dataframe\">\n",
       "  <thead>\n",
       "    <tr style=\"text-align: right;\">\n",
       "      <th></th>\n",
       "      <th>barcode</th>\n",
       "      <th>celltype</th>\n",
       "    </tr>\n",
       "  </thead>\n",
       "  <tbody>\n",
       "    <tr>\n",
       "      <th>1</th>\n",
       "      <td>AAACAGCCAAAGCCTC-1</td>\n",
       "      <td>Naive CD8+ T cells</td>\n",
       "    </tr>\n",
       "    <tr>\n",
       "      <th>2</th>\n",
       "      <td>AAACAGCCAGAATGAC-1</td>\n",
       "      <td>Classical Monocytes</td>\n",
       "    </tr>\n",
       "    <tr>\n",
       "      <th>3</th>\n",
       "      <td>AAACAGCCAGCTACGT-1</td>\n",
       "      <td>Classical Monocytes</td>\n",
       "    </tr>\n",
       "    <tr>\n",
       "      <th>4</th>\n",
       "      <td>AAACAGCCAGGCCTTG-1</td>\n",
       "      <td>Myeloid Dendritic cells</td>\n",
       "    </tr>\n",
       "    <tr>\n",
       "      <th>5</th>\n",
       "      <td>AAACAGCCATAATGTC-1</td>\n",
       "      <td>Naive CD4+ T cells</td>\n",
       "    </tr>\n",
       "  </tbody>\n",
       "</table>\n",
       "</div>"
      ],
      "text/plain": [
       "              barcode                 celltype\n",
       "1  AAACAGCCAAAGCCTC-1       Naive CD8+ T cells\n",
       "2  AAACAGCCAGAATGAC-1      Classical Monocytes\n",
       "3  AAACAGCCAGCTACGT-1      Classical Monocytes\n",
       "4  AAACAGCCAGGCCTTG-1  Myeloid Dendritic cells\n",
       "5  AAACAGCCATAATGTC-1       Naive CD4+ T cells"
      ]
     },
     "execution_count": 18,
     "metadata": {},
     "output_type": "execute_result"
    }
   ],
   "source": [
    "b2type = pd.read_csv(\"/Users/hyunjaecho/Downloads/raw_feature_bc_matrix/barcode_to_celltype.tsv\", sep=\"\\t\", header=None).iloc[1:]\n",
    "b2type.columns = [\"barcode\", \"celltype\"]\n",
    "b2type.head()"
   ]
  },
  {
   "cell_type": "code",
   "execution_count": 20,
   "metadata": {},
   "outputs": [
    {
     "data": {
      "text/plain": [
       "array(['Naive CD8+ T cells', 'Classical Monocytes',\n",
       "       'Myeloid Dendritic cells', 'Naive CD4+ T cells',\n",
       "       'CD8+ NKT-like cells', 'Effector CD4+ T cells', 'Pre-B cells',\n",
       "       'Non-classical monocytes', 'Naive B cells', 'Plasma B cells',\n",
       "       'Macrophages', 'Natural killer  cells',\n",
       "       'Plasmacytoid Dendritic cells'], dtype=object)"
      ]
     },
     "execution_count": 20,
     "metadata": {},
     "output_type": "execute_result"
    }
   ],
   "source": [
    "b2type.celltype.unique()"
   ]
  },
  {
   "cell_type": "code",
   "execution_count": 22,
   "metadata": {},
   "outputs": [
    {
     "data": {
      "text/plain": [
       "12313"
      ]
     },
     "execution_count": 22,
     "metadata": {},
     "output_type": "execute_result"
    }
   ],
   "source": [
    "# Find out overlapping barcodes from adata and b2type.\n",
    "adata_barcodes = adata.obs.index\n",
    "b2type_barcodes = b2type.barcode\n",
    "overlapping_barcodes = np.intersect1d(adata_barcodes, b2type_barcodes)\n",
    "len(overlapping_barcodes)"
   ]
  },
  {
   "cell_type": "code",
   "execution_count": 27,
   "metadata": {},
   "outputs": [
    {
     "name": "stderr",
     "output_type": "stream",
     "text": [
      "/Users/hyunjaecho/opt/anaconda3/envs/single_cell/lib/python3.8/site-packages/anndata/_core/anndata.py:1222: ImplicitModificationWarning: Trying to modify attribute `.var` of view, initializing view as actual.\n",
      "  df[key] = c\n"
     ]
    }
   ],
   "source": [
    "adata[overlapping_barcodes,:].write_h5ad(\"/Users/hyunjaecho/Downloads/raw_feature_bc_matrix/pbmc10k.h5ad\")"
   ]
  },
  {
   "cell_type": "code",
   "execution_count": 28,
   "metadata": {},
   "outputs": [],
   "source": [
    "# Read the h5ad file.\n",
    "adata2 = sc.read_h5ad(\"/Users/hyunjaecho/Downloads/raw_feature_bc_matrix/pbmc10k.h5ad\")"
   ]
  },
  {
   "cell_type": "code",
   "execution_count": 29,
   "metadata": {},
   "outputs": [
    {
     "data": {
      "text/plain": [
       "AnnData object with n_obs × n_vars = 12313 × 36601\n",
       "    var: 'gene_ids', 'feature_types'"
      ]
     },
     "execution_count": 29,
     "metadata": {},
     "output_type": "execute_result"
    }
   ],
   "source": [
    "adata2"
   ]
  },
  {
   "cell_type": "code",
   "execution_count": 31,
   "metadata": {},
   "outputs": [],
   "source": [
    "labels = b2type[b2type.barcode.isin(overlapping_barcodes)].celltype"
   ]
  },
  {
   "cell_type": "code",
   "execution_count": 33,
   "metadata": {},
   "outputs": [
    {
     "data": {
      "text/plain": [
       "1             Naive CD8+ T cells\n",
       "2            Classical Monocytes\n",
       "3            Classical Monocytes\n",
       "4        Myeloid Dendritic cells\n",
       "5             Naive CD4+ T cells\n",
       "                  ...           \n",
       "12309         Naive CD4+ T cells\n",
       "12310        Classical Monocytes\n",
       "12311         Naive CD4+ T cells\n",
       "12312         Naive CD8+ T cells\n",
       "12313        Classical Monocytes\n",
       "Name: celltype, Length: 12313, dtype: object"
      ]
     },
     "execution_count": 33,
     "metadata": {},
     "output_type": "execute_result"
    }
   ],
   "source": [
    "labels"
   ]
  },
  {
   "cell_type": "code",
   "execution_count": 34,
   "metadata": {},
   "outputs": [],
   "source": [
    "# If you want, you can also store the labels in the adata object:\n",
    "adata2.obs['labels'] = labels"
   ]
  },
  {
   "cell_type": "code",
   "execution_count": null,
   "metadata": {},
   "outputs": [],
   "source": []
  }
 ],
 "metadata": {
  "kernelspec": {
   "display_name": "single_cell",
   "language": "python",
   "name": "python3"
  },
  "language_info": {
   "codemirror_mode": {
    "name": "ipython",
    "version": 3
   },
   "file_extension": ".py",
   "mimetype": "text/x-python",
   "name": "python",
   "nbconvert_exporter": "python",
   "pygments_lexer": "ipython3",
   "version": "3.8.16"
  },
  "orig_nbformat": 4
 },
 "nbformat": 4,
 "nbformat_minor": 2
}
